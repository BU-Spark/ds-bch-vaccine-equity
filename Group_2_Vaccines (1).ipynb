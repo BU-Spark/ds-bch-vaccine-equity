{
  "nbformat": 4,
  "nbformat_minor": 0,
  "metadata": {
    "colab": {
      "provenance": [],
      "collapsed_sections": []
    },
    "kernelspec": {
      "name": "python3",
      "display_name": "Python 3"
    },
    "language_info": {
      "name": "python"
    }
  },
  "cells": [
    {
      "cell_type": "markdown",
      "source": [
        "#*Data Cleaning*"
      ],
      "metadata": {
        "id": "wffKqgXl1RS4"
      }
    },
    {
      "cell_type": "code",
      "execution_count": null,
      "metadata": {
        "id": "u9hJbc50JqiL"
      },
      "outputs": [],
      "source": [
        "import pandas as pd\n",
        "import numpy as np\n",
        "#Convert data to csv\n",
        "zipdf = pd.read_csv(\"Zipcode.csv\")\n",
        "citydf = pd.read_csv(\"Grouped.csv\")\n",
        "\n",
        "\n",
        "#Get numbers only\n",
        "zipnums = zipdf.drop(['date', 'zipcode'], axis=1)\n",
        "citynums = citydf.drop(['date', 'city', 'age_group', 'population'], axis=1)\n"
      ]
    },
    {
      "cell_type": "markdown",
      "source": [],
      "metadata": {
        "id": "KvO2nkbkehap"
      }
    },
    {
      "cell_type": "markdown",
      "source": [
        "Below part is to fill up all empty data in \"atleast_onedose\", \"fully_vaccinated\", and \"partially_vaccinated\" columns for Grouped Data\n",
        "\n",
        "----Jingyi"
      ],
      "metadata": {
        "id": "lbD5Vln6PAqs"
      }
    },
    {
      "cell_type": "code",
      "source": [
        "\n",
        "# Build individual Dataframe for six cities (Revere, Chelsea, Springfield, Everett, Newton, Wellesley)\n",
        "six_city= citydf.copy()\n",
        "Revere = six_city[six_city[\"city\"]==\"Revere\"]\n",
        "Chelsea = six_city[six_city[\"city\"]==\"Chelsea\"]\n",
        "Springfield = six_city[six_city[\"city\"]==\"Springfield\"]\n",
        "Everett = six_city[six_city[\"city\"]==\"Everett\"]\n",
        "Newton = six_city[six_city[\"city\"]==\"Newton\"]\n",
        "Wellesley = six_city[six_city[\"city\"]==\"Wellesley\"]\n",
        "\n",
        "# People in all age ranges in Revere\n",
        "#Because our team is to analyze the vaccination situation for different age ranges, \"all_age_Revere\" is the data for people in all age ranges from Revere.\n",
        "all_age_Revere = Revere[Revere[\"age_group\"]==\"Total\"]\n",
        "\n",
        "#Due to some data are missing, I use interpolate method to fill the empty data\n",
        "#Because the number of vaccinations must in an increasing trend, we must split data in the same city and same age_group at first then we can use interpolate method.\n",
        "all_age_Revere = all_age_Revere.interpolate()\n",
        "\n",
        "# 0-19 Years age people in Revere\n",
        "age0_Revere = Revere[Revere[\"age_group\"]==\"0-19 Years\"]\n",
        "age0_Revere = age0_Revere.interpolate()\n",
        "\n",
        "# 20-29 Years Years age people in Revere\n",
        "age20_Revere = Revere[Revere[\"age_group\"]==\"20-29 Years\"]\n",
        "age20_Revere = age20_Revere.interpolate()\n",
        "\n",
        "# 30-49 Years age people in Revere\n",
        "age30_Revere = Revere[Revere[\"age_group\"]==\"30-49 Years\"]\n",
        "age30_Revere = age30_Revere.interpolate()\n",
        "\n",
        "# 50-64 Years age people in Revere\n",
        "age50_Revere = Revere[Revere[\"age_group\"]==\"50-64 Years\"]\n",
        "age50_Revere = age50_Revere.interpolate()\n",
        "\n",
        "# 65-74 Years age people in Revere\n",
        "age65_Revere = Revere[Revere[\"age_group\"]==\"65-74 Years\"]\n",
        "age65_Revere = age65_Revere.interpolate()\n",
        "\n",
        "# 75+ Years age people in Revere\n",
        "age75_Revere = Revere[Revere[\"age_group\"]==\"75+ Years\"]\n",
        "age75_Revere = age75_Revere.interpolate()\n",
        "\n",
        "\n",
        "\n",
        "# All age people in Chelsea\n",
        "all_age_Chelsea = Chelsea[Chelsea[\"age_group\"]==\"Total\"]\n",
        "all_age_Chelsea = all_age_Chelsea.interpolate()\n",
        "\n",
        "# 0-19 Years age people in Chelsea\n",
        "age0_Chelsea = Chelsea[Chelsea[\"age_group\"]==\"0-19 Years\"]\n",
        "age0_Chelsea = age0_Chelsea.interpolate()\n",
        "\n",
        "# 20-29 Years Years age people in Chelsea\n",
        "age20_Chelsea = Chelsea[Chelsea[\"age_group\"]==\"20-29 Years\"]\n",
        "age20_Chelsea = age20_Chelsea.interpolate()\n",
        "\n",
        "# 30-49 Years age people in Chelsea\n",
        "age30_Chelsea = Chelsea[Chelsea[\"age_group\"]==\"30-49 Years\"]\n",
        "age30_Chelsea = age30_Chelsea.interpolate()\n",
        "\n",
        "# 50-64 Years age people in Chelsea\n",
        "age50_Chelsea = Chelsea[Chelsea[\"age_group\"]==\"50-64 Years\"]\n",
        "age50_Chelsea = age50_Chelsea.interpolate()\n",
        "\n",
        "# 65-74 Years age people in Chelsea\n",
        "age65_Chelsea = Chelsea[Chelsea[\"age_group\"]==\"65-74 Years\"]\n",
        "age65_Chelsea = age65_Chelsea.interpolate()\n",
        "\n",
        "# 75+ Years age people in Chelsea\n",
        "age75_Chelsea = Chelsea[Chelsea[\"age_group\"]==\"75+ Years\"]\n",
        "age75_Chelsea = age75_Chelsea.interpolate()\n",
        "\n",
        "\n",
        "# All age people in Springfield\n",
        "all_age_Springfield = Springfield[Springfield[\"age_group\"]==\"Total\"]\n",
        "all_age_Springfield = all_age_Springfield.interpolate()\n",
        "\n",
        "# 0-19 Years age people in Springfield\n",
        "age0_Springfield = Springfield[Springfield[\"age_group\"]==\"0-19 Years\"]\n",
        "age0_Springfield = age0_Springfield.interpolate()\n",
        "\n",
        "# 20-29 Years Years age people in Springfield\n",
        "age20_Springfield = Springfield[Springfield[\"age_group\"]==\"20-29 Years\"]\n",
        "age20_Springfield = age20_Springfield.interpolate()\n",
        "\n",
        "# 30-49 Years age people in Springfield\n",
        "age30_Springfield = Springfield[Springfield[\"age_group\"]==\"30-49 Years\"]\n",
        "age30_Springfield = age30_Springfield.interpolate()\n",
        "\n",
        "# 50-64 Years age people in Springfield\n",
        "age50_Springfield = Springfield[Springfield[\"age_group\"]==\"50-64 Years\"]\n",
        "age50_Springfield = age50_Springfield.interpolate()\n",
        "\n",
        "# 65-74 Years age people in Springfield\n",
        "age65_Springfield = Springfield[Springfield[\"age_group\"]==\"65-74 Years\"]\n",
        "age65_Springfield = age65_Springfield.interpolate()\n",
        "\n",
        "# 75+ Years age people in Springfield\n",
        "age75_Springfield = Springfield[Springfield[\"age_group\"]==\"75+ Years\"]\n",
        "age75_Springfield = age75_Springfield.interpolate()\n",
        "\n",
        "\n",
        "\n",
        "# All age people in Everett\n",
        "all_age_Everett = Everett[Everett[\"age_group\"]==\"Total\"]\n",
        "all_age_Everett = all_age_Everett.interpolate()\n",
        "\n",
        "# 0-19 Years age people in Everett\n",
        "age0_Everett = Everett[Everett[\"age_group\"]==\"0-19 Years\"]\n",
        "age0_Everett = age0_Everett.interpolate()\n",
        "\n",
        "# 20-29 Years Years age people in Everett\n",
        "age20_Everett = Everett[Everett[\"age_group\"]==\"20-29 Years\"]\n",
        "age20_Everett = age20_Everett.interpolate()\n",
        "\n",
        "# 30-49 Years age people in Everett\n",
        "age30_Everett = Everett[Everett[\"age_group\"]==\"30-49 Years\"]\n",
        "age30_Everett = age30_Everett.interpolate()\n",
        "\n",
        "# 50-64 Years age people in Everett\n",
        "age50_Everett = Everett[Everett[\"age_group\"]==\"50-64 Years\"]\n",
        "age50_Everett = age50_Everett.interpolate()\n",
        "\n",
        "# 65-74 Years age people in Everett\n",
        "age65_Everett = Everett[Everett[\"age_group\"]==\"65-74 Years\"]\n",
        "age65_Everett = age65_Everett.interpolate()\n",
        "\n",
        "# 75+ Years age people in Everett\n",
        "age75_Everett = Everett[Everett[\"age_group\"]==\"75+ Years\"]\n",
        "age75_Everett = age75_Everett.interpolate()\n",
        "\n",
        "\n",
        "\n",
        "# All age people in Newton\n",
        "all_age_Newton = Newton[Newton[\"age_group\"]==\"Total\"]\n",
        "all_age_Newton = all_age_Newton.interpolate()\n",
        "\n",
        "# 0-19 Years age people in Newton\n",
        "age0_Newton = Newton[Newton[\"age_group\"]==\"0-19 Years\"]\n",
        "age0_Newton = age0_Newton.interpolate()\n",
        "\n",
        "# 20-29 Years Years age people in Newton\n",
        "age20_Newton = Newton[Newton[\"age_group\"]==\"20-29 Years\"]\n",
        "age20_Newton = age20_Newton.interpolate()\n",
        "\n",
        "# 30-49 Years age people in Newton\n",
        "age30_Newton = Newton[Newton[\"age_group\"]==\"30-49 Years\"]\n",
        "age30_Newton = age30_Newton.interpolate()\n",
        "\n",
        "# 50-64 Years age people in Newton\n",
        "age50_Newton = Newton[Newton[\"age_group\"]==\"50-64 Years\"]\n",
        "age50_Newton = age50_Newton.interpolate()\n",
        "\n",
        "# 65-74 Years age people in Newton\n",
        "age65_Newton = Newton[Newton[\"age_group\"]==\"65-74 Years\"]\n",
        "age65_Newton = age65_Newton.interpolate()\n",
        "\n",
        "# 75+ Years age people in Newton\n",
        "age75_Newton = Newton[Newton[\"age_group\"]==\"75+ Years\"]\n",
        "age75_Newton = age75_Newton.interpolate()\n",
        "\n",
        "\n",
        "# All age people in Wellesley\n",
        "all_age_Wellesley = Wellesley[Wellesley[\"age_group\"]==\"Total\"]\n",
        "all_age_Wellesley = all_age_Wellesley.interpolate()\n",
        "\n",
        "# 0-19 Years age people in Wellesley\n",
        "age0_Wellesley = Wellesley[Wellesley[\"age_group\"]==\"0-19 Years\"]\n",
        "age0_Wellesley = age0_Wellesley.interpolate()\n",
        "\n",
        "# 20-29 Years Years age people in Wellesley\n",
        "age20_Wellesley = Wellesley[Wellesley[\"age_group\"]==\"20-29 Years\"]\n",
        "age20_Wellesley = age20_Wellesley.interpolate()\n",
        "\n",
        "# 30-49 Years age people in Wellesley\n",
        "age30_Wellesley = Wellesley[Wellesley[\"age_group\"]==\"30-49 Years\"]\n",
        "age30_Wellesley = age30_Wellesley.interpolate()\n",
        "\n",
        "# 50-64 Years age people in Wellesley\n",
        "age50_Wellesley = Wellesley[Wellesley[\"age_group\"]==\"50-64 Years\"]\n",
        "age50_Wellesley = age50_Wellesley.interpolate()\n",
        "\n",
        "# 65-74 Years age people in Wellesley\n",
        "age65_Wellesley = Wellesley[Wellesley[\"age_group\"]==\"65-74 Years\"]\n",
        "age65_Wellesley = age65_Wellesley.interpolate()\n",
        "\n",
        "# 75+ Years age people in Wellesley\n",
        "age75_Wellesley = Wellesley[Wellesley[\"age_group\"]==\"75+ Years\"]\n",
        "age75_Wellesley = age75_Wellesley.interpolate()\n",
        "\n",
        "\n",
        "\n",
        "\n",
        "#Combine all ages range data into one Dataframe for four cities\n",
        "Everett_complete = pd.concat([age75_Everett, age65_Everett, age50_Everett, age30_Everett, age20_Everett, age0_Everett, all_age_Everett])\n",
        "Springfield_complete = pd.concat([age75_Springfield, age65_Springfield, age50_Springfield, age30_Springfield, age20_Springfield, age0_Springfield, all_age_Springfield])\n",
        "Chelsea_complete = pd.concat([age75_Chelsea, age65_Chelsea, age50_Chelsea, age30_Chelsea, age20_Chelsea, age0_Chelsea, all_age_Chelsea])\n",
        "Revere_complete = pd.concat([age75_Revere, age65_Revere, age50_Revere, age30_Revere, age20_Revere, age0_Revere, all_age_Revere])\n",
        "Newton_complete = pd.concat([age75_Newton, age65_Newton, age50_Newton, age30_Newton, age20_Newton, age0_Newton, all_age_Newton])\n",
        "Wellesley_complete = pd.concat([age75_Wellesley, age65_Wellesley, age50_Wellesley, age30_Wellesley, age20_Wellesley, age0_Wellesley, all_age_Wellesley])\n"
      ],
      "metadata": {
        "id": "OW8sVl3NI2VQ"
      },
      "execution_count": null,
      "outputs": []
    },
    {
      "cell_type": "markdown",
      "source": [
        "##Ch"
      ],
      "metadata": {
        "id": "uUGlfLJ3ekFs"
      }
    },
    {
      "cell_type": "markdown",
      "source": [
        "#Notes\n",
        "\n",
        "Independent Variable: **Age Group**\n",
        "\n",
        "Dependent Variable: **Number Vaccinated**"
      ],
      "metadata": {
        "id": "s3RqtuG-zW_7"
      }
    },
    {
      "cell_type": "markdown",
      "source": [
        "#*Visualization*"
      ],
      "metadata": {
        "id": "_5vQjo2B1AJw"
      }
    },
    {
      "cell_type": "markdown",
      "source": [
        "Below graph shows fully vaccinated trends in four cities for all age groups. \n",
        "\n",
        "----Jingyi"
      ],
      "metadata": {
        "id": "36lBg5WVYSii"
      }
    },
    {
      "cell_type": "code",
      "source": [
        "import matplotlib.pyplot as plt\n",
        "\n",
        "plt.plot(all_age_Revere[\"date\"],all_age_Revere[\"fully_vaccinated\"], label='Revere')\n",
        "plt.plot(all_age_Everett[\"date\"],all_age_Everett[\"fully_vaccinated\"], label='Everett')\n",
        "plt.plot(all_age_Chelsea[\"date\"],all_age_Chelsea[\"fully_vaccinated\"], label='Chelsea')\n",
        "plt.plot(all_age_Springfield[\"date\"],all_age_Springfield[\"fully_vaccinated\"], label='Springfield')\n",
        "plt.plot(all_age_Wellesley[\"date\"],all_age_Wellesley[\"fully_vaccinated\"], label='Wellesley')\n",
        "plt.plot(all_age_Newton[\"date\"],all_age_Newton[\"fully_vaccinated\"], label='Newton')\n",
        "\n",
        "plt.title('Fully Vaccinated Trends in Six Cities')\n",
        "plt.xlabel('Date')\n",
        "plt.ylabel('Number of Fully Vaccinated')\n",
        "\n",
        "plt.xticks(rotation='vertical') # I don't know how to remove a few x labels. It is too hard to read now.\n",
        "\n",
        "plt.legend()\n",
        "plt.show()\n"
      ],
      "metadata": {
        "colab": {
          "base_uri": "https://localhost:8080/",
          "height": 343
        },
        "id": "nefVTLeCDL5E",
        "outputId": "c11f3b2b-55cd-47eb-eade-00030e0b46ba"
      },
      "execution_count": null,
      "outputs": [
        {
          "output_type": "display_data",
          "data": {
            "text/plain": [
              "<Figure size 432x288 with 1 Axes>"
            ],
            "image/png": "[encoded data removed]"
          },
          "metadata": {
            "needs_background": "light"
          }
        }
      ]
    },
    {
      "cell_type": "code",
      "source": [],
      "metadata": {
        "id": "5s8fH13LIkL4"
      },
      "execution_count": null,
      "outputs": []
    },
    {
      "cell_type": "markdown",
      "source": [
        "#*Analysis*"
      ],
      "metadata": {
        "id": "aeVfcmEA1a1u"
      }
    },
    {
      "cell_type": "markdown",
      "source": [],
      "metadata": {
        "id": "9abwn8rc1eli"
      }
    }
  ]
}